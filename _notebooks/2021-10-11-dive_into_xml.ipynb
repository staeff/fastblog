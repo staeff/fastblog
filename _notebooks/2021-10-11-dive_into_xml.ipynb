{
 "cells": [
  {
   "cell_type": "markdown",
   "id": "8749bf85",
   "metadata": {},
   "source": [
    "## ElementTree\n",
    "\n",
    "`ElementTree` from the standard library and `lxml` are the most prevalent tools in the Python world for processing XML."
   ]
  },
  {
   "cell_type": "markdown",
   "id": "57a16745",
   "metadata": {},
   "source": [
    "The ElementTree library is part of the Python standard library"
   ]
  },
  {
   "cell_type": "code",
   "execution_count": 1,
   "id": "fd5a2f91",
   "metadata": {},
   "outputs": [],
   "source": [
    "import xml.etree.ElementTree as etree"
   ]
  },
  {
   "cell_type": "markdown",
   "id": "2fa9dbb7",
   "metadata": {},
   "source": [
    "The primary entry point for the ElementTree library is the `parse()` function, which can take a filename or a file-like object. This function parses the entire document at once. \n",
    "If memory is tight, there are ways to parse an XML document incrementally instead."
   ]
  },
  {
   "cell_type": "code",
   "execution_count": 2,
   "id": "ebba0094",
   "metadata": {},
   "outputs": [],
   "source": [
    "tree = etree.parse('feed.xml')"
   ]
  },
  {
   "cell_type": "markdown",
   "id": "e438223d",
   "metadata": {},
   "source": [
    "The `parse()` function returns an object which represents the entire document. \n",
    "This is not the root element. \n",
    "To get a reference to the root element, call the `getroot()` method."
   ]
  },
  {
   "cell_type": "code",
   "execution_count": 3,
   "id": "a9182024",
   "metadata": {},
   "outputs": [],
   "source": [
    "root = tree.getroot()"
   ]
  },
  {
   "cell_type": "markdown",
   "id": "609ab92e",
   "metadata": {},
   "source": [
    "In the example file `feed.xml` the root element is the feed element in the http://www.w3.org/2005/Atom namespace. \n",
    "The string representation of this object reinforces an important point: \n",
    "an XML element is a combination of its namespace and its tag name (also called the local name). \n",
    "Every element in this document is in the Atom namespace, \n",
    "so the root element is represented as {http://www.w3.org/2005/Atom}feed."
   ]
  },
  {
   "cell_type": "code",
   "execution_count": 4,
   "id": "4280669d",
   "metadata": {},
   "outputs": [
    {
     "data": {
      "text/plain": [
       "<Element '{http://www.w3.org/2005/Atom}feed' at 0x10b8e7db0>"
      ]
     },
     "execution_count": 4,
     "metadata": {},
     "output_type": "execute_result"
    }
   ],
   "source": [
    "root"
   ]
  },
  {
   "cell_type": "markdown",
   "id": "5c041a57",
   "metadata": {},
   "source": [
    "*ElementTree represents XML elements as `{namespace}localname`. You’ll see and use this format in multiple places in the ElementTree `API`.*"
   ]
  },
  {
   "cell_type": "code",
   "execution_count": 5,
   "id": "5ad7636c",
   "metadata": {},
   "outputs": [
    {
     "data": {
      "text/plain": [
       "'{http://www.w3.org/2005/Atom}feed'"
      ]
     },
     "execution_count": 5,
     "metadata": {},
     "output_type": "execute_result"
    }
   ],
   "source": [
    "root.tag"
   ]
  },
  {
   "cell_type": "markdown",
   "id": "b1671531",
   "metadata": {},
   "source": [
    "The “length” of the root element is the number of child elements."
   ]
  },
  {
   "cell_type": "code",
   "execution_count": 6,
   "id": "262c4d0d",
   "metadata": {},
   "outputs": [
    {
     "data": {
      "text/plain": [
       "8"
      ]
     },
     "execution_count": 6,
     "metadata": {},
     "output_type": "execute_result"
    }
   ],
   "source": [
    "len(root)"
   ]
  },
  {
   "cell_type": "markdown",
   "id": "1755f61a",
   "metadata": {},
   "source": [
    "An element can be used as an iterator to loop through all of its child elements. The list of child elements only includes `direct` children."
   ]
  },
  {
   "cell_type": "code",
   "execution_count": 7,
   "id": "b7a31984",
   "metadata": {
    "scrolled": true
   },
   "outputs": [
    {
     "name": "stdout",
     "output_type": "stream",
     "text": [
      "<Element '{http://www.w3.org/2005/Atom}title' at 0x10b8e7e50>\n",
      "<Element '{http://www.w3.org/2005/Atom}subtitle' at 0x10b8e7ef0>\n",
      "<Element '{http://www.w3.org/2005/Atom}id' at 0x10b8ed040>\n",
      "<Element '{http://www.w3.org/2005/Atom}updated' at 0x10b8ed0e0>\n",
      "<Element '{http://www.w3.org/2005/Atom}link' at 0x10b8ed220>\n",
      "<Element '{http://www.w3.org/2005/Atom}entry' at 0x10b8ed2c0>\n",
      "<Element '{http://www.w3.org/2005/Atom}entry' at 0x10b8eda90>\n",
      "<Element '{http://www.w3.org/2005/Atom}entry' at 0x10b8edf90>\n"
     ]
    }
   ],
   "source": [
    "for child in root:\n",
    "    print(child)"
   ]
  },
  {
   "cell_type": "markdown",
   "id": "cbaeb72a",
   "metadata": {},
   "source": [
    "### Attributes Are Dictonaries\n",
    "\n",
    "Once you have a reference to a specific element, you can easily get its attributes as a Python dictionary."
   ]
  },
  {
   "cell_type": "code",
   "execution_count": 8,
   "id": "67085646",
   "metadata": {},
   "outputs": [
    {
     "data": {
      "text/plain": [
       "{'{http://www.w3.org/XML/1998/namespace}lang': 'en'}"
      ]
     },
     "execution_count": 8,
     "metadata": {},
     "output_type": "execute_result"
    }
   ],
   "source": [
    "root.attrib"
   ]
  },
  {
   "cell_type": "code",
   "execution_count": 9,
   "id": "75732776",
   "metadata": {},
   "outputs": [
    {
     "data": {
      "text/plain": [
       "<Element '{http://www.w3.org/2005/Atom}link' at 0x10b8ed220>"
      ]
     },
     "execution_count": 9,
     "metadata": {},
     "output_type": "execute_result"
    }
   ],
   "source": [
    "root[4]"
   ]
  },
  {
   "cell_type": "code",
   "execution_count": 10,
   "id": "913945d7",
   "metadata": {},
   "outputs": [
    {
     "data": {
      "text/plain": [
       "{'rel': 'alternate', 'type': 'text/html', 'href': 'http://diveintomark.org/'}"
      ]
     },
     "execution_count": 10,
     "metadata": {},
     "output_type": "execute_result"
    }
   ],
   "source": [
    "root[4].attrib"
   ]
  },
  {
   "cell_type": "code",
   "execution_count": 11,
   "id": "80f83d64",
   "metadata": {},
   "outputs": [
    {
     "data": {
      "text/plain": [
       "<Element '{http://www.w3.org/2005/Atom}updated' at 0x10b8ed0e0>"
      ]
     },
     "execution_count": 11,
     "metadata": {},
     "output_type": "execute_result"
    }
   ],
   "source": [
    "root[3]"
   ]
  },
  {
   "cell_type": "code",
   "execution_count": 12,
   "id": "a2f43ad4",
   "metadata": {},
   "outputs": [
    {
     "data": {
      "text/plain": [
       "{}"
      ]
     },
     "execution_count": 12,
     "metadata": {},
     "output_type": "execute_result"
    }
   ],
   "source": [
    "# The updated element has no attributes, \n",
    "# so its .attrib is just an empty dictionary.\n",
    "root[3].attrib"
   ]
  },
  {
   "cell_type": "markdown",
   "id": "7e0c537e",
   "metadata": {},
   "source": [
    "## Searching For Nodes Within An XML Document\n",
    "\n",
    "### findall()\n",
    "\n",
    "Each element — including the root element, but also child elements — has a `findall()` method. It finds all matching elements among the element’s children."
   ]
  },
  {
   "cell_type": "code",
   "execution_count": 13,
   "id": "4a599fce",
   "metadata": {},
   "outputs": [
    {
     "data": {
      "text/plain": [
       "<xml.etree.ElementTree.ElementTree at 0x10b8eb0a0>"
      ]
     },
     "execution_count": 13,
     "metadata": {},
     "output_type": "execute_result"
    }
   ],
   "source": [
    "tree"
   ]
  },
  {
   "cell_type": "code",
   "execution_count": 14,
   "id": "18a242dd",
   "metadata": {},
   "outputs": [],
   "source": [
    "# We will need to use the namespace a lot, so we make this shortcut\n",
    "namespace = '{http://www.w3.org/2005/Atom}'"
   ]
  },
  {
   "cell_type": "code",
   "execution_count": 15,
   "id": "e9b3d241",
   "metadata": {},
   "outputs": [
    {
     "data": {
      "text/plain": [
       "[<Element '{http://www.w3.org/2005/Atom}entry' at 0x10b8ed2c0>,\n",
       " <Element '{http://www.w3.org/2005/Atom}entry' at 0x10b8eda90>,\n",
       " <Element '{http://www.w3.org/2005/Atom}entry' at 0x10b8edf90>]"
      ]
     },
     "execution_count": 15,
     "metadata": {},
     "output_type": "execute_result"
    }
   ],
   "source": [
    "root.findall(f'{namespace}entry')"
   ]
  },
  {
   "cell_type": "code",
   "execution_count": 16,
   "id": "0de3d875",
   "metadata": {},
   "outputs": [
    {
     "data": {
      "text/plain": [
       "'{http://www.w3.org/2005/Atom}feed'"
      ]
     },
     "execution_count": 16,
     "metadata": {},
     "output_type": "execute_result"
    }
   ],
   "source": [
    "root.tag"
   ]
  },
  {
   "cell_type": "code",
   "execution_count": 17,
   "id": "dbdb7235",
   "metadata": {},
   "outputs": [
    {
     "data": {
      "text/plain": [
       "[]"
      ]
     },
     "execution_count": 17,
     "metadata": {},
     "output_type": "execute_result"
    }
   ],
   "source": [
    "# This query returns an empty list because the root\n",
    "# element 'feed' does not have any child element 'feed'\n",
    "root.findall(f'{namespace}feed')"
   ]
  },
  {
   "cell_type": "code",
   "execution_count": 18,
   "id": "ab023ea7",
   "metadata": {},
   "outputs": [
    {
     "data": {
      "text/plain": [
       "[]"
      ]
     },
     "execution_count": 18,
     "metadata": {},
     "output_type": "execute_result"
    }
   ],
   "source": [
    "# This query only finds direct children. The author nodes are nested,\n",
    "# therefore this query returns an empty list\n",
    "root.findall(f'{namespace}author')"
   ]
  },
  {
   "cell_type": "markdown",
   "id": "54bc9e6d",
   "metadata": {},
   "source": [
    "For convenience, the `tree` object (returned from the `etree.parse()` function) has several methods that mirror the methods on the root element. The results are the same as if you had called the `tree.getroot().findall()` method."
   ]
  },
  {
   "cell_type": "code",
   "execution_count": 19,
   "id": "22392da7",
   "metadata": {},
   "outputs": [
    {
     "data": {
      "text/plain": [
       "[<Element '{http://www.w3.org/2005/Atom}entry' at 0x10b8ed2c0>,\n",
       " <Element '{http://www.w3.org/2005/Atom}entry' at 0x10b8eda90>,\n",
       " <Element '{http://www.w3.org/2005/Atom}entry' at 0x10b8edf90>]"
      ]
     },
     "execution_count": 19,
     "metadata": {},
     "output_type": "execute_result"
    }
   ],
   "source": [
    "tree.findall(f'{namespace}entry')"
   ]
  },
  {
   "cell_type": "code",
   "execution_count": 20,
   "id": "1d8440ec",
   "metadata": {},
   "outputs": [
    {
     "data": {
      "text/plain": [
       "[]"
      ]
     },
     "execution_count": 20,
     "metadata": {},
     "output_type": "execute_result"
    }
   ],
   "source": [
    "tree.findall(f'{namespace}author')"
   ]
  },
  {
   "cell_type": "markdown",
   "id": "0f7fb2fd",
   "metadata": {},
   "source": [
    "### find()\n",
    "\n",
    "The `find()` method takes an ElementTree query returns the first matching element. This is useful for situations where you are only expecting one match, or if there are multiple matches, you only care about the first one."
   ]
  },
  {
   "cell_type": "code",
   "execution_count": 21,
   "id": "10344390",
   "metadata": {},
   "outputs": [
    {
     "data": {
      "text/plain": [
       "3"
      ]
     },
     "execution_count": 21,
     "metadata": {},
     "output_type": "execute_result"
    }
   ],
   "source": [
    "entries = tree.findall(f'{namespace}entry')\n",
    "len(entries)"
   ]
  },
  {
   "cell_type": "code",
   "execution_count": 22,
   "id": "3aab55d8",
   "metadata": {},
   "outputs": [
    {
     "data": {
      "text/plain": [
       "'Dive into history, 2009 edition'"
      ]
     },
     "execution_count": 22,
     "metadata": {},
     "output_type": "execute_result"
    }
   ],
   "source": [
    "# Get the first title, secretly we know there is only one title\n",
    "title_element = entries[0].find(f'{namespace}title')\n",
    "title_element.text"
   ]
  },
  {
   "cell_type": "markdown",
   "id": "90ad7ee9",
   "metadata": {},
   "source": [
    "There are no elements in this entry named `foo`, so this returns `None`."
   ]
  },
  {
   "cell_type": "code",
   "execution_count": 23,
   "id": "d3be121c",
   "metadata": {},
   "outputs": [],
   "source": [
    "foo_element = entries[0].find(f'{namespace}foo')\n",
    "foo_element"
   ]
  },
  {
   "cell_type": "code",
   "execution_count": 24,
   "id": "fd9df9c7",
   "metadata": {},
   "outputs": [
    {
     "data": {
      "text/plain": [
       "NoneType"
      ]
     },
     "execution_count": 24,
     "metadata": {},
     "output_type": "execute_result"
    }
   ],
   "source": [
    "type(foo_element)"
   ]
  },
  {
   "cell_type": "markdown",
   "id": "a09f2db1",
   "metadata": {},
   "source": [
    "**Beware:** In a boolean context, ElementTree element objects will evaluate to `False` if they contain no children (i.e. if `len(element)` is 0). This means that if `element.find('...')` is not testing whether the find() method found a matching element; it’s testing whether that matching element has any child elements! To test whether the `find()` method returned an element, use if `element.find('...') is not None`."
   ]
  },
  {
   "cell_type": "markdown",
   "id": "39586822",
   "metadata": {},
   "source": [
    "### Search for descendant elements\n",
    "\n",
    "A query like `//{http://www.w3.org/2005/Atom}link` with the two slashes at the beginning finds any elements, regardless of nesting level."
   ]
  },
  {
   "cell_type": "code",
   "execution_count": 25,
   "id": "7d3dccc1",
   "metadata": {},
   "outputs": [
    {
     "data": {
      "text/plain": [
       "[<Element '{http://www.w3.org/2005/Atom}link' at 0x10b8ed220>,\n",
       " <Element '{http://www.w3.org/2005/Atom}link' at 0x10b8ed590>,\n",
       " <Element '{http://www.w3.org/2005/Atom}link' at 0x10b8edcc0>,\n",
       " <Element '{http://www.w3.org/2005/Atom}link' at 0x10b8ef130>]"
      ]
     },
     "execution_count": 25,
     "metadata": {},
     "output_type": "execute_result"
    }
   ],
   "source": [
    "all_links = tree.findall(f'.//{namespace}link')\n",
    "all_links"
   ]
  },
  {
   "cell_type": "code",
   "execution_count": 26,
   "id": "7489036e",
   "metadata": {},
   "outputs": [
    {
     "data": {
      "text/plain": [
       "{'rel': 'alternate', 'type': 'text/html', 'href': 'http://diveintomark.org/'}"
      ]
     },
     "execution_count": 26,
     "metadata": {},
     "output_type": "execute_result"
    }
   ],
   "source": [
    "all_links[0].attrib"
   ]
  },
  {
   "cell_type": "code",
   "execution_count": 27,
   "id": "2e81bdcd",
   "metadata": {},
   "outputs": [
    {
     "data": {
      "text/plain": [
       "{'rel': 'alternate',\n",
       " 'type': 'text/html',\n",
       " 'href': 'http://diveintomark.org/archives/2009/03/27/dive-into-history-2009-edition'}"
      ]
     },
     "execution_count": 27,
     "metadata": {},
     "output_type": "execute_result"
    }
   ],
   "source": [
    "all_links[1].attrib"
   ]
  },
  {
   "cell_type": "code",
   "execution_count": 28,
   "id": "3bf23039",
   "metadata": {},
   "outputs": [
    {
     "data": {
      "text/plain": [
       "{'rel': 'alternate',\n",
       " 'type': 'text/html',\n",
       " 'href': 'http://diveintomark.org/archives/2009/03/21/accessibility-is-a-harsh-mistress'}"
      ]
     },
     "execution_count": 28,
     "metadata": {},
     "output_type": "execute_result"
    }
   ],
   "source": [
    "all_links[2].attrib"
   ]
  },
  {
   "cell_type": "code",
   "execution_count": 29,
   "id": "9917935d",
   "metadata": {},
   "outputs": [
    {
     "data": {
      "text/plain": [
       "{'rel': 'alternate',\n",
       " 'type': 'text/html',\n",
       " 'href': 'http://diveintomark.org/archives/2008/12/18/give-part-1-container-formats'}"
      ]
     },
     "execution_count": 29,
     "metadata": {},
     "output_type": "execute_result"
    }
   ],
   "source": [
    "all_links[3].attrib"
   ]
  },
  {
   "cell_type": "markdown",
   "id": "4c474824",
   "metadata": {},
   "source": [
    "ElementTree’s `findall()` method is a very powerful feature, but the query language can be a bit surprising. ElementTree’s query language is similar enough to XPath to do basic searching, but dissimilar enough that it may annoy you if you already know XPath."
   ]
  },
  {
   "cell_type": "markdown",
   "id": "3f9dffb9",
   "metadata": {},
   "source": [
    "## Parsing with lxml\n",
    "\n",
    "`lxml` utilizes the popular `libxml2` parser. It provides a 100% compatible ElementTree API, then extends it with full XPath 1.0 support and a few other niceties."
   ]
  },
  {
   "cell_type": "code",
   "execution_count": 30,
   "id": "6beeb636",
   "metadata": {},
   "outputs": [],
   "source": [
    "# We will need to use the namespace a lot, so we make this shortcut\n",
    "namespace = '{http://www.w3.org/2005/Atom}'"
   ]
  },
  {
   "cell_type": "code",
   "execution_count": 31,
   "id": "2f7bbd2b",
   "metadata": {},
   "outputs": [
    {
     "data": {
      "text/plain": [
       "[<Element {http://www.w3.org/2005/Atom}entry at 0x10bf9ab80>,\n",
       " <Element {http://www.w3.org/2005/Atom}entry at 0x10bf9abc0>,\n",
       " <Element {http://www.w3.org/2005/Atom}entry at 0x10bf9ac00>]"
      ]
     },
     "execution_count": 31,
     "metadata": {},
     "output_type": "execute_result"
    }
   ],
   "source": [
    "from lxml import etree\n",
    "tree = etree.parse('feed.xml')\n",
    "root = tree.getroot()\n",
    "root.findall(f'{namespace}entry')"
   ]
  },
  {
   "cell_type": "markdown",
   "id": "cc24fb94",
   "metadata": {},
   "source": [
    "For large XML documents `lxml` is significantly faster than the `built-in` ElementTree library. If you’re only using the ElementTree API and want to use the fastest available implementation, you can try to import `lxml` and fall back to the built-in ElementTree."
   ]
  },
  {
   "cell_type": "code",
   "execution_count": 32,
   "id": "54b5b87d",
   "metadata": {},
   "outputs": [],
   "source": [
    "try:\n",
    "    from lxml import etree\n",
    "except ImportError:\n",
    "    import xml.etree.ElementTree as etree"
   ]
  },
  {
   "cell_type": "markdown",
   "id": "bcdc090b",
   "metadata": {},
   "source": [
    "The following query finds all elements in the Atom namespace, anywhere in the document, that have an `href` attribute. The `//` at the beginning of the query means “elements anywhere (not just as children of the root element).” `{http://www.w3.org/2005/Atom}` means “only elements in the Atom namespace.” `*` means “elements with any local name.” And `[@href]` means “has an href attribute.”"
   ]
  },
  {
   "cell_type": "code",
   "execution_count": 33,
   "id": "06bcfb8d",
   "metadata": {},
   "outputs": [
    {
     "data": {
      "text/plain": [
       "[<Element {http://www.w3.org/2005/Atom}link at 0x10bfa6280>,\n",
       " <Element {http://www.w3.org/2005/Atom}link at 0x10bfa62c0>,\n",
       " <Element {http://www.w3.org/2005/Atom}link at 0x10bfa6300>,\n",
       " <Element {http://www.w3.org/2005/Atom}link at 0x10bfa6340>]"
      ]
     },
     "execution_count": 33,
     "metadata": {},
     "output_type": "execute_result"
    }
   ],
   "source": [
    "tree.findall(f'//{namespace}*[@href]')"
   ]
  },
  {
   "cell_type": "code",
   "execution_count": 34,
   "id": "5ea876a3",
   "metadata": {},
   "outputs": [
    {
     "data": {
      "text/plain": [
       "[<Element {http://www.w3.org/2005/Atom}link at 0x10bfa6280>]"
      ]
     },
     "execution_count": 34,
     "metadata": {},
     "output_type": "execute_result"
    }
   ],
   "source": [
    "tree.findall(f\"//{namespace}*[@href='http://diveintomark.org/']\")"
   ]
  },
  {
   "cell_type": "code",
   "execution_count": 35,
   "id": "8c36bac0",
   "metadata": {},
   "outputs": [],
   "source": [
    "# Using NS as name of the namespace variable is a cool idea\n",
    "NS = '{http://www.w3.org/2005/Atom}'"
   ]
  },
  {
   "cell_type": "markdown",
   "id": "84801dcc",
   "metadata": {},
   "source": [
    "The following query searches for Atom `author` elements that have an Atom `uri` element as a child. This only returns two `author` elements, the ones in the first and second `entry`. The `author` in the last `entry` contains only a `name`, not a `uri`. "
   ]
  },
  {
   "cell_type": "code",
   "execution_count": 36,
   "id": "b5f61a8c",
   "metadata": {},
   "outputs": [
    {
     "data": {
      "text/plain": [
       "[<Element {http://www.w3.org/2005/Atom}author at 0x10bfa6600>,\n",
       " <Element {http://www.w3.org/2005/Atom}author at 0x10bfa6840>]"
      ]
     },
     "execution_count": 36,
     "metadata": {},
     "output_type": "execute_result"
    }
   ],
   "source": [
    "tree.findall(f'//{NS}author[{NS}uri]')"
   ]
  },
  {
   "cell_type": "markdown",
   "id": "2414ec51",
   "metadata": {},
   "source": [
    "### XPath support in lxml\n",
    "\n",
    "\n",
    "Technically an XPath expressions returns a list of nodes. (Thats what the DOM of a parsed XML document is made up of). Depending on their type, nodes can be elements, attributes, or even text content. \n",
    "\n",
    "To perform XPath queries on namespaced elements, you need to define a namespace prefix mapping. This is just a Python dictionary."
   ]
  },
  {
   "cell_type": "code",
   "execution_count": 37,
   "id": "a43cd740",
   "metadata": {},
   "outputs": [],
   "source": [
    "NSMAP = {'atom': 'http://www.w3.org/2005/Atom'}"
   ]
  },
  {
   "cell_type": "markdown",
   "id": "ff804eea",
   "metadata": {},
   "source": [
    "The XPath expression searches for `category` elements (in the Atom namespace) that contain a `term` attribute with the value `accessibility`. The `/..` bit means to return the parent element of the category element you just found.\n",
    "So this single XPath query will find all entries with a child element of `<category term='accessibility'>`.\n",
    "In this case the `xpath()` function returns a list of ElementTree objects."
   ]
  },
  {
   "cell_type": "code",
   "execution_count": 38,
   "id": "9dbc50fe",
   "metadata": {},
   "outputs": [
    {
     "data": {
      "text/plain": [
       "[<Element {http://www.w3.org/2005/Atom}entry at 0x10bf9abc0>]"
      ]
     },
     "execution_count": 38,
     "metadata": {},
     "output_type": "execute_result"
    }
   ],
   "source": [
    "entries = tree.xpath(\"//atom:category[@term='accessibility']/..\", \n",
    "                    namespaces=NSMAP)\n",
    "entries"
   ]
  },
  {
   "cell_type": "markdown",
   "id": "59a6a699",
   "metadata": {},
   "source": [
    "The following query returns a list that contains a string. It selects text content (`text()`) of the title element (`atom:title`) that is a child of the current element (`./`)."
   ]
  },
  {
   "cell_type": "code",
   "execution_count": 39,
   "id": "1d9f3c2d",
   "metadata": {},
   "outputs": [
    {
     "data": {
      "text/plain": [
       "['Accessibility is a harsh mistress']"
      ]
     },
     "execution_count": 39,
     "metadata": {},
     "output_type": "execute_result"
    }
   ],
   "source": [
    "# Pick the first (and only) element from the entries list\n",
    "entry = entries[0]\n",
    "# It is an ElementTree object and therefore supports\n",
    "entry.xpath('./atom:title/text()', namespaces=NSMAP)"
   ]
  },
  {
   "cell_type": "markdown",
   "id": "d618d3d3",
   "metadata": {},
   "source": [
    "## Generating XML\n",
    "\n",
    "You can create XML documents from scratch."
   ]
  },
  {
   "cell_type": "code",
   "execution_count": 40,
   "id": "a39edebd",
   "metadata": {},
   "outputs": [],
   "source": [
    "import xml.etree.ElementTree as etree\n",
    "atom_NS = '{http://www.w3.org/2005/Atom}'\n",
    "w3_NS = '{http://www.w3.org/XML/1998/namespace}'"
   ]
  },
  {
   "cell_type": "markdown",
   "id": "973a0723",
   "metadata": {},
   "source": [
    "To create a new element, instantiate the `Element` class. You pass the element name (namespace + local name) as the first argument. This statement creates a `feed` element in the Atom namespace. This will be our new document’s root element.\n",
    "\n",
    "To add attributes to the newly created element, pass a dictionary of attribute names and values in the `attrib` argument. Note that the attribute name should be in the standard ElementTree format, `{namespace}localname`."
   ]
  },
  {
   "cell_type": "code",
   "execution_count": 41,
   "id": "3b23f7ed",
   "metadata": {},
   "outputs": [],
   "source": [
    "new_feed = etree.Element(f'{atom_NS}feed',\n",
    "                        attrib={f'{w3_NS}lang': 'en'})"
   ]
  },
  {
   "cell_type": "markdown",
   "id": "fca0796b",
   "metadata": {},
   "source": [
    "At any time, you can serialize any element (and its children) with the ElementTree `tostring()` function."
   ]
  },
  {
   "cell_type": "code",
   "execution_count": 42,
   "id": "b064d4b6",
   "metadata": {},
   "outputs": [
    {
     "name": "stdout",
     "output_type": "stream",
     "text": [
      "b'<ns0:feed xmlns:ns0=\"http://www.w3.org/2005/Atom\" xml:lang=\"en\" />'\n"
     ]
    }
   ],
   "source": [
    "print(etree.tostring(new_feed))"
   ]
  },
  {
   "cell_type": "markdown",
   "id": "6118fc16",
   "metadata": {},
   "source": [
    "### Default namespaces\n",
    "\n",
    "A default namespace is useful for documents — like Atom feeds — where every element is in the same namespace. The namespace is declared once and each element just needs to be declared with its local name (`<feed>`, `<link>`, `<entry>`). There is no need to use any prefixes unless you want to declare elements from another namespace.\n",
    "    \n",
    "The first snippet has an default, implicit namespace.\n",
    "\n",
    "```xml\n",
    "<feed xmlns='http://www.w3.org/2005/Atom' xml:lang='en'/>\n",
    "```\n",
    "\n",
    "Whereas the second, this is how `ElementTree` serializes namespaced XML elements, has an explicit namespace. This is technically accurate, but a bit cumbersome to work with. \n",
    "    \n",
    "Both `DOM`s of the serialisations in the example are identical.\n",
    "\n",
    "```xml\n",
    "<ns0:feed xmlns:ns0='http://www.w3.org/2005/Atom' xml:lang='en'/>\n",
    "```\n",
    "    \n",
    "`lxml` does offer fine-grained control over how namespaced elements are serialized. The built-in `ElementTree` does not. "
   ]
  },
  {
   "cell_type": "code",
   "execution_count": 43,
   "id": "552a1063",
   "metadata": {},
   "outputs": [],
   "source": [
    "# We import lxml's etree like this, to make it recognizeable \n",
    "# in the example\n",
    "import lxml.etree"
   ]
  },
  {
   "cell_type": "markdown",
   "id": "47a0d534",
   "metadata": {},
   "source": [
    "Define a namespace mapping as a dictionary. Dictionary values are namespaces; dictionary keys are the desired prefix. Using `None` as a prefix effectively declares a default namespace."
   ]
  },
  {
   "cell_type": "code",
   "execution_count": 44,
   "id": "a2dbb5d7",
   "metadata": {},
   "outputs": [],
   "source": [
    "NSMAP = {None: 'http://www.w3.org/2005/Atom'}"
   ]
  },
  {
   "cell_type": "markdown",
   "id": "c29916e9",
   "metadata": {},
   "source": [
    "Now you can pass the `lxml`-specific `nsmap` argument when you create an element, and `lxml` will respect the namespace prefixes you’ve defined."
   ]
  },
  {
   "cell_type": "code",
   "execution_count": 45,
   "id": "846a6083",
   "metadata": {},
   "outputs": [],
   "source": [
    "new_feed = lxml.etree.Element('feed', nsmap=NSMAP)"
   ]
  },
  {
   "cell_type": "markdown",
   "id": "a4a265ab",
   "metadata": {},
   "source": [
    "This serialization defines the Atom namespace as the default namespace and declares the feed element without a namespace prefix."
   ]
  },
  {
   "cell_type": "code",
   "execution_count": 46,
   "id": "89c3b23d",
   "metadata": {},
   "outputs": [
    {
     "name": "stdout",
     "output_type": "stream",
     "text": [
      "<feed xmlns=\"http://www.w3.org/2005/Atom\"/>\n"
     ]
    }
   ],
   "source": [
    "print(lxml.etree.tounicode(new_feed))"
   ]
  },
  {
   "cell_type": "code",
   "execution_count": 47,
   "id": "34ff8a36",
   "metadata": {},
   "outputs": [
    {
     "name": "stdout",
     "output_type": "stream",
     "text": [
      "b'<feed xmlns=\"http://www.w3.org/2005/Atom\"/>'\n"
     ]
    }
   ],
   "source": [
    "# Aha, .tounicode() would be one way to get a string instead of \n",
    "# a byte object\n",
    "print(lxml.etree.tostring(new_feed))"
   ]
  },
  {
   "cell_type": "markdown",
   "id": "b112f626",
   "metadata": {},
   "source": [
    "You can always add attributes to any element with the `set()` method. It takes two arguments: the attribute name in standard ElementTree format, then the attribute value. This method is not `lxml`-specific."
   ]
  },
  {
   "cell_type": "code",
   "execution_count": 48,
   "id": "0192e09d",
   "metadata": {},
   "outputs": [
    {
     "name": "stdout",
     "output_type": "stream",
     "text": [
      "<feed xmlns=\"http://www.w3.org/2005/Atom\" xml:lang=\"en\"/>\n"
     ]
    }
   ],
   "source": [
    "new_feed.set('{http://www.w3.org/XML/1998/namespace}lang', 'en')\n",
    "print(lxml.etree.tounicode(new_feed))"
   ]
  },
  {
   "cell_type": "markdown",
   "id": "3dbef530",
   "metadata": {},
   "source": [
    "### Create child elements\n",
    "\n",
    "Instantiate the `SubElement` class to create a child element of an existing element. The only required arguments are the parent element (`new_feed` in this case) and the new element’s name. Since this child element will inherit the namespace mapping of its parent, there is no need to redeclare the namespace or prefix here.\n",
    "\n",
    "You can also pass in an attribute dictionary. Keys are attribute names; values are attribute values."
   ]
  },
  {
   "cell_type": "code",
   "execution_count": 49,
   "id": "d0dd5ec6",
   "metadata": {},
   "outputs": [
    {
     "name": "stdout",
     "output_type": "stream",
     "text": [
      "<feed xmlns=\"http://www.w3.org/2005/Atom\" xml:lang=\"en\"><title type=\"html\"/></feed>\n"
     ]
    }
   ],
   "source": [
    "title = lxml.etree.SubElement(new_feed, 'title', \n",
    "                              attrib={'type':'html'})\n",
    "print(lxml.etree.tounicode(new_feed))"
   ]
  },
  {
   "cell_type": "markdown",
   "id": "d7dd7a26",
   "metadata": {},
   "source": [
    "Set the `.text` property to add the text content to an element. "
   ]
  },
  {
   "cell_type": "code",
   "execution_count": 52,
   "id": "452f8dbd",
   "metadata": {},
   "outputs": [
    {
     "name": "stdout",
     "output_type": "stream",
     "text": [
      "<feed xmlns=\"http://www.w3.org/2005/Atom\" xml:lang=\"en\"><title type=\"html\">dive into &amp;hellip;</title></feed>\n"
     ]
    }
   ],
   "source": [
    "title.text = 'dive into &hellip;'\n",
    "print(lxml.etree.tounicode(new_feed))"
   ]
  },
  {
   "cell_type": "code",
   "execution_count": 53,
   "id": "2529e4b8",
   "metadata": {},
   "outputs": [
    {
     "name": "stdout",
     "output_type": "stream",
     "text": [
      "<feed xmlns=\"http://www.w3.org/2005/Atom\" xml:lang=\"en\">\n",
      "  <title type=\"html\">dive into &amp;hellip;</title>\n",
      "</feed>\n",
      "\n"
     ]
    }
   ],
   "source": [
    "print(lxml.etree.tounicode(new_feed, pretty_print=True))"
   ]
  },
  {
   "cell_type": "markdown",
   "id": "fab7a09e",
   "metadata": {},
   "source": [
    "## Parsing broken xml\n",
    "\n",
    "`lxml` is capable of parsing not wellformed xml documents.\n",
    "\n",
    "The parser chokes on this document, because because the `&hellip;` entity is not defined in XML."
   ]
  },
  {
   "cell_type": "code",
   "execution_count": 56,
   "id": "0b4fd0da",
   "metadata": {},
   "outputs": [
    {
     "ename": "XMLSyntaxError",
     "evalue": "Entity 'hellip' not defined, line 3, column 28 (broken-feed.xml, line 3)",
     "output_type": "error",
     "traceback": [
      "Traceback \u001b[0;36m(most recent call last)\u001b[0m:\n",
      "  File \u001b[1;32m\"/Users/staeff/Projects/python/dive-into-notebooks/.venv/lib/python3.8/site-packages/IPython/core/interactiveshell.py\"\u001b[0m, line \u001b[1;32m3444\u001b[0m, in \u001b[1;35mrun_code\u001b[0m\n    exec(code_obj, self.user_global_ns, self.user_ns)\n",
      "  File \u001b[1;32m\"/var/folders/c4/kd_bd76n4s339m4tdc5dc8qm0000gn/T/ipykernel_72241/3961460450.py\"\u001b[0m, line \u001b[1;32m2\u001b[0m, in \u001b[1;35m<module>\u001b[0m\n    tree = lxml.etree.parse('broken-feed.xml')\n",
      "  File \u001b[1;32m\"src/lxml/etree.pyx\"\u001b[0m, line \u001b[1;32m3521\u001b[0m, in \u001b[1;35mlxml.etree.parse\u001b[0m\n",
      "  File \u001b[1;32m\"src/lxml/parser.pxi\"\u001b[0m, line \u001b[1;32m1859\u001b[0m, in \u001b[1;35mlxml.etree._parseDocument\u001b[0m\n",
      "  File \u001b[1;32m\"src/lxml/parser.pxi\"\u001b[0m, line \u001b[1;32m1885\u001b[0m, in \u001b[1;35mlxml.etree._parseDocumentFromURL\u001b[0m\n",
      "  File \u001b[1;32m\"src/lxml/parser.pxi\"\u001b[0m, line \u001b[1;32m1789\u001b[0m, in \u001b[1;35mlxml.etree._parseDocFromFile\u001b[0m\n",
      "  File \u001b[1;32m\"src/lxml/parser.pxi\"\u001b[0m, line \u001b[1;32m1177\u001b[0m, in \u001b[1;35mlxml.etree._BaseParser._parseDocFromFile\u001b[0m\n",
      "  File \u001b[1;32m\"src/lxml/parser.pxi\"\u001b[0m, line \u001b[1;32m615\u001b[0m, in \u001b[1;35mlxml.etree._ParserContext._handleParseResultDoc\u001b[0m\n",
      "  File \u001b[1;32m\"src/lxml/parser.pxi\"\u001b[0m, line \u001b[1;32m725\u001b[0m, in \u001b[1;35mlxml.etree._handleParseResult\u001b[0m\n",
      "\u001b[0;36m  File \u001b[0;32m\"src/lxml/parser.pxi\"\u001b[0;36m, line \u001b[0;32m654\u001b[0;36m, in \u001b[0;35mlxml.etree._raiseParseError\u001b[0;36m\u001b[0m\n",
      "\u001b[0;36m  File \u001b[0;32m\"broken-feed.xml\"\u001b[0;36m, line \u001b[0;32m3\u001b[0m\n\u001b[0;31m    <title>dive into &hellip;</title>\u001b[0m\n\u001b[0m                            ^\u001b[0m\n\u001b[0;31mXMLSyntaxError\u001b[0m\u001b[0;31m:\u001b[0m Entity 'hellip' not defined, line 3, column 28\n"
     ]
    }
   ],
   "source": [
    "import lxml.etree\n",
    "tree = lxml.etree.parse('broken-feed.xml')"
   ]
  },
  {
   "cell_type": "markdown",
   "id": "b6d4ff07",
   "metadata": {},
   "source": [
    "Instantiate the `lxml.etree.XMLParser` class to create a custom parser. It can take a number of different named arguments. Here we are using the `recover` argument, so that the XML parser will try its best to “recover” from wellformedness errors."
   ]
  },
  {
   "cell_type": "code",
   "execution_count": 57,
   "id": "d7de573b",
   "metadata": {},
   "outputs": [],
   "source": [
    "parser = lxml.etree.XMLParser(recover=True)"
   ]
  },
  {
   "cell_type": "markdown",
   "id": "9493508f",
   "metadata": {},
   "source": [
    "This works! The second argument of `parse()` is the custom parser."
   ]
  },
  {
   "cell_type": "code",
   "execution_count": 59,
   "id": "09d54093",
   "metadata": {},
   "outputs": [],
   "source": [
    "tree = lxml.etree.parse('broken-feed.xml', parser)"
   ]
  },
  {
   "cell_type": "markdown",
   "id": "6ac2113c",
   "metadata": {},
   "source": [
    "The parser keeps a log of the wellformedness errors that it has encountered."
   ]
  },
  {
   "cell_type": "code",
   "execution_count": 60,
   "id": "e17afe54",
   "metadata": {},
   "outputs": [
    {
     "data": {
      "text/plain": [
       "broken-feed.xml:3:28:FATAL:PARSER:ERR_UNDECLARED_ENTITY: Entity 'hellip' not defined"
      ]
     },
     "execution_count": 60,
     "metadata": {},
     "output_type": "execute_result"
    }
   ],
   "source": [
    "parser.error_log"
   ]
  },
  {
   "cell_type": "code",
   "execution_count": 61,
   "id": "560fdb61",
   "metadata": {},
   "outputs": [
    {
     "data": {
      "text/plain": [
       "[<Element {http://www.w3.org/2005/Atom}title at 0x10e022d80>]"
      ]
     },
     "execution_count": 61,
     "metadata": {},
     "output_type": "execute_result"
    }
   ],
   "source": [
    "tree.findall('{http://www.w3.org/2005/Atom}title')"
   ]
  },
  {
   "cell_type": "markdown",
   "id": "bae332fa",
   "metadata": {},
   "source": [
    "The parser just dropped the undefined `&hellip;` entity. The text content of the title element becomes 'dive into '."
   ]
  },
  {
   "cell_type": "code",
   "execution_count": 64,
   "id": "3cd92ae9",
   "metadata": {},
   "outputs": [
    {
     "data": {
      "text/plain": [
       "'dive into '"
      ]
     },
     "execution_count": 64,
     "metadata": {},
     "output_type": "execute_result"
    }
   ],
   "source": [
    "title = tree.findall('{http://www.w3.org/2005/Atom}title')[0]\n",
    "title.text"
   ]
  },
  {
   "cell_type": "markdown",
   "id": "6d988ab0",
   "metadata": {},
   "source": [
    "As you can see from the serialization, the &hellip; entity didn’t get moved; it was simply dropped."
   ]
  },
  {
   "cell_type": "code",
   "execution_count": 63,
   "id": "198fa9a4",
   "metadata": {},
   "outputs": [
    {
     "name": "stdout",
     "output_type": "stream",
     "text": [
      "<feed xmlns=\"http://www.w3.org/2005/Atom\" xml:lang=\"en\">\n",
      "  <title>dive into </title>\n",
      "</feed>\n"
     ]
    }
   ],
   "source": [
    "print(lxml.etree.tounicode(tree.getroot()))"
   ]
  }
 ],
 "metadata": {
  "kernelspec": {
   "display_name": "Python 3 (ipykernel)",
   "language": "python",
   "name": "python3"
  },
  "language_info": {
   "codemirror_mode": {
    "name": "ipython",
    "version": 3
   },
   "file_extension": ".py",
   "mimetype": "text/x-python",
   "name": "python",
   "nbconvert_exporter": "python",
   "pygments_lexer": "ipython3",
   "version": "3.8.12"
  }
 },
 "nbformat": 4,
 "nbformat_minor": 5
}
